{
 "cells": [
  {
   "cell_type": "markdown",
   "id": "1ea52047",
   "metadata": {},
   "source": [
    "Import "
   ]
  },
  {
   "cell_type": "code",
   "execution_count": 2,
   "id": "52831ef0",
   "metadata": {},
   "outputs": [],
   "source": [
    "import pandas as pd\n",
    "import matplotlib.pyplot as plt\n",
    "import seaborn as sns\n",
    "import sys\n",
    "sys.path.append('../scripts')\n",
    "\n",
    "from sentiment import get_sentiment"
   ]
  },
  {
   "cell_type": "markdown",
   "id": "7afeff5e",
   "metadata": {},
   "source": [
    "Load Cleaned Data"
   ]
  },
  {
   "cell_type": "code",
   "execution_count": 4,
   "id": "254d6736",
   "metadata": {},
   "outputs": [],
   "source": [
    "df = pd.read_csv('../data/complaints_cleaned.csv')"
   ]
  },
  {
   "cell_type": "markdown",
   "id": "c8d4a6e9",
   "metadata": {},
   "source": [
    "Apply Sentiment Analysis"
   ]
  },
  {
   "cell_type": "code",
   "execution_count": null,
   "id": "0bac0d43",
   "metadata": {},
   "outputs": [],
   "source": [
    "df['sentiment'] = df['cleaned_complaint'].apply(get_sentiment)"
   ]
  },
  {
   "cell_type": "markdown",
   "id": "cb8eb0c6",
   "metadata": {},
   "source": [
    "Visualize Sentiment Distribution"
   ]
  },
  {
   "cell_type": "code",
   "execution_count": null,
   "id": "e7c06dfc",
   "metadata": {},
   "outputs": [],
   "source": [
    "plt.figure(figsize=(8,6))\n",
    "sns.countplot(x='sentiment', data=df, palette='coolwarm')\n",
    "plt.title('Sentiment Distribution of Complaints')\n",
    "plt.xlabel('Sentiment')\n",
    "plt.ylabel('Number of Complaints')\n",
    "plt.show()"
   ]
  },
  {
   "cell_type": "markdown",
   "id": "53a93c3d",
   "metadata": {},
   "source": [
    "Save Sentiment Data"
   ]
  },
  {
   "cell_type": "code",
   "execution_count": 8,
   "id": "ac2c86fd",
   "metadata": {},
   "outputs": [],
   "source": [
    "df.to_csv('../data/complaints_with_sentiment.csv', index=False)"
   ]
  },
  {
   "cell_type": "markdown",
   "id": "d2bf9ea8",
   "metadata": {},
   "source": [
    "Preview"
   ]
  },
  {
   "cell_type": "code",
   "execution_count": null,
   "id": "146f9406",
   "metadata": {},
   "outputs": [],
   "source": [
    "df[['cleaned_complaint', 'sentiment']].head()"
   ]
  }
 ],
 "metadata": {
  "kernelspec": {
   "display_name": "venv",
   "language": "python",
   "name": "python3"
  },
  "language_info": {
   "codemirror_mode": {
    "name": "ipython",
    "version": 3
   },
   "file_extension": ".py",
   "mimetype": "text/x-python",
   "name": "python",
   "nbconvert_exporter": "python",
   "pygments_lexer": "ipython3",
   "version": "3.13.3"
  }
 },
 "nbformat": 4,
 "nbformat_minor": 5
}
